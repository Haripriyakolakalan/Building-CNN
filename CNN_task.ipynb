{
  "nbformat": 4,
  "nbformat_minor": 0,
  "metadata": {
    "colab": {
      "provenance": [],
      "gpuType": "T4",
      "authorship_tag": "ABX9TyMNEsOW04gFBhaMy3vHfkMy",
      "include_colab_link": true
    },
    "kernelspec": {
      "name": "python3",
      "display_name": "Python 3"
    },
    "language_info": {
      "name": "python"
    },
    "accelerator": "GPU"
  },
  "cells": [
    {
      "cell_type": "markdown",
      "metadata": {
        "id": "view-in-github",
        "colab_type": "text"
      },
      "source": [
        "<a href=\"https://colab.research.google.com/github/Haripriyakolakalan/Building-CNN/blob/main/CNN_task.ipynb\" target=\"_parent\"><img src=\"https://colab.research.google.com/assets/colab-badge.svg\" alt=\"Open In Colab\"/></a>"
      ]
    },
    {
      "cell_type": "markdown",
      "source": [
        "perform a cnn model for mnist fashion dataset . build the network with training data and test the model with train set.\n",
        "epoch =50\n",
        "batch_size=16*3=48"
      ],
      "metadata": {
        "id": "HqEUy0DmP2_1"
      }
    },
    {
      "cell_type": "code",
      "execution_count": null,
      "metadata": {
        "colab": {
          "base_uri": "https://localhost:8080/"
        },
        "id": "35Mj2fUoPy8_",
        "outputId": "2e73b3cd-c679-498b-e5f5-3bab5a262720"
      },
      "outputs": [
        {
          "output_type": "stream",
          "name": "stdout",
          "text": [
            "Looking in indexes: https://pypi.org/simple, https://us-python.pkg.dev/colab-wheels/public/simple/\n",
            "Collecting ann_visualizer\n",
            "  Downloading ann_visualizer-2.5.tar.gz (4.7 kB)\n",
            "  Preparing metadata (setup.py) ... \u001b[?25l\u001b[?25hdone\n",
            "Building wheels for collected packages: ann_visualizer\n",
            "  Building wheel for ann_visualizer (setup.py) ... \u001b[?25l\u001b[?25hdone\n",
            "  Created wheel for ann_visualizer: filename=ann_visualizer-2.5-py3-none-any.whl size=4167 sha256=38cd82127b850f2afc910982313f71b43d4b079301b6f0bc397cb45cdbeab604\n",
            "  Stored in directory: /root/.cache/pip/wheels/6e/0f/ae/f5dba91db71b1b32bf03d0ad18c32e86126093aba5ec6b6488\n",
            "Successfully built ann_visualizer\n",
            "Installing collected packages: ann_visualizer\n",
            "Successfully installed ann_visualizer-2.5\n"
          ]
        }
      ],
      "source": [
        "pip install ann_visualizer"
      ]
    },
    {
      "cell_type": "code",
      "source": [
        "pip install visualkeras"
      ],
      "metadata": {
        "colab": {
          "base_uri": "https://localhost:8080/"
        },
        "id": "52_dIa6YQh2W",
        "outputId": "21cbdab8-7d67-4b65-ef7e-85e644cd65c6"
      },
      "execution_count": null,
      "outputs": [
        {
          "output_type": "stream",
          "name": "stdout",
          "text": [
            "Looking in indexes: https://pypi.org/simple, https://us-python.pkg.dev/colab-wheels/public/simple/\n",
            "Collecting visualkeras\n",
            "  Downloading visualkeras-0.0.2-py3-none-any.whl (12 kB)\n",
            "Requirement already satisfied: pillow>=6.2.0 in /usr/local/lib/python3.10/dist-packages (from visualkeras) (8.4.0)\n",
            "Requirement already satisfied: numpy>=1.18.1 in /usr/local/lib/python3.10/dist-packages (from visualkeras) (1.22.4)\n",
            "Collecting aggdraw>=1.3.11 (from visualkeras)\n",
            "  Downloading aggdraw-1.3.16-cp310-cp310-manylinux_2_17_x86_64.manylinux2014_x86_64.whl (993 kB)\n",
            "\u001b[2K     \u001b[90m━━━━━━━━━━━━━━━━━━━━━━━━━━━━━━━━━━━━━━\u001b[0m \u001b[32m993.0/993.0 kB\u001b[0m \u001b[31m22.1 MB/s\u001b[0m eta \u001b[36m0:00:00\u001b[0m\n",
            "\u001b[?25hInstalling collected packages: aggdraw, visualkeras\n",
            "Successfully installed aggdraw-1.3.16 visualkeras-0.0.2\n"
          ]
        }
      ]
    },
    {
      "cell_type": "code",
      "source": [
        "import numpy as np\n",
        "import matplotlib.pyplot as plt\n",
        "from keras.models import Sequential\n",
        "from keras.layers import Dense,Dropout,Activation,Flatten,Convolution2D,MaxPooling2D\n",
        "from keras.utils import np_utils\n",
        "from keras.datasets import fashion_mnist"
      ],
      "metadata": {
        "id": "pgxXtKtNQjX8"
      },
      "execution_count": null,
      "outputs": []
    },
    {
      "cell_type": "code",
      "source": [
        "from ann_visualizer.visualize import ann_viz\n",
        "import visualkeras"
      ],
      "metadata": {
        "id": "HpcINGAmQnl0"
      },
      "execution_count": null,
      "outputs": []
    },
    {
      "cell_type": "code",
      "source": [
        "(Xtrain,Ytrain),(Xtest,Ytest)=fashion_mnist.load_data()"
      ],
      "metadata": {
        "colab": {
          "base_uri": "https://localhost:8080/"
        },
        "id": "AYG15L1vQ4Qb",
        "outputId": "a711d635-85a4-44ae-d26d-e4625264d467"
      },
      "execution_count": null,
      "outputs": [
        {
          "output_type": "stream",
          "name": "stdout",
          "text": [
            "Downloading data from https://storage.googleapis.com/tensorflow/tf-keras-datasets/train-labels-idx1-ubyte.gz\n",
            "29515/29515 [==============================] - 0s 0us/step\n",
            "Downloading data from https://storage.googleapis.com/tensorflow/tf-keras-datasets/train-images-idx3-ubyte.gz\n",
            "26421880/26421880 [==============================] - 0s 0us/step\n",
            "Downloading data from https://storage.googleapis.com/tensorflow/tf-keras-datasets/t10k-labels-idx1-ubyte.gz\n",
            "5148/5148 [==============================] - 0s 0us/step\n",
            "Downloading data from https://storage.googleapis.com/tensorflow/tf-keras-datasets/t10k-images-idx3-ubyte.gz\n",
            "4422102/4422102 [==============================] - 0s 0us/step\n"
          ]
        }
      ]
    },
    {
      "cell_type": "code",
      "source": [
        "plt.imshow(Xtrain[7])"
      ],
      "metadata": {
        "colab": {
          "base_uri": "https://localhost:8080/",
          "height": 447
        },
        "id": "3yluaI12Q8wz",
        "outputId": "bf5e00a7-6b3c-4ba9-b2e9-266b6fbe9659"
      },
      "execution_count": null,
      "outputs": [
        {
          "output_type": "execute_result",
          "data": {
            "text/plain": [
              "<matplotlib.image.AxesImage at 0x7f0eed8b1330>"
            ]
          },
          "metadata": {},
          "execution_count": 6
        },
        {
          "output_type": "display_data",
          "data": {
            "text/plain": [
              "<Figure size 640x480 with 1 Axes>"
            ],
            "image/png": "[encoded data removed]"
          },
          "metadata": {}
        }
      ]
    },
    {
      "cell_type": "code",
      "source": [
        "print(Ytrain[0])"
      ],
      "metadata": {
        "colab": {
          "base_uri": "https://localhost:8080/"
        },
        "id": "d6Mhv-zBRLgy",
        "outputId": "69fe96da-de25-423d-9b76-06c185724bed"
      },
      "execution_count": null,
      "outputs": [
        {
          "output_type": "stream",
          "name": "stdout",
          "text": [
            "9\n"
          ]
        }
      ]
    },
    {
      "cell_type": "code",
      "source": [
        "Xtrain.shape"
      ],
      "metadata": {
        "colab": {
          "base_uri": "https://localhost:8080/"
        },
        "id": "2pjF1TeyRPbb",
        "outputId": "671109b6-5e7a-4478-b884-060bd804671c"
      },
      "execution_count": null,
      "outputs": [
        {
          "output_type": "execute_result",
          "data": {
            "text/plain": [
              "(60000, 28, 28)"
            ]
          },
          "metadata": {},
          "execution_count": 8
        }
      ]
    },
    {
      "cell_type": "code",
      "source": [
        "Xtrain=Xtrain.reshape(Xtrain.shape[0],28,28,1)\n",
        "Xtest=Xtest.reshape(Xtest.shape[0],28,28,1)"
      ],
      "metadata": {
        "id": "hSe0T0Q5RWAL"
      },
      "execution_count": null,
      "outputs": []
    },
    {
      "cell_type": "code",
      "source": [
        "Xtrain.shape"
      ],
      "metadata": {
        "colab": {
          "base_uri": "https://localhost:8080/"
        },
        "id": "FuXlxo3HRdmr",
        "outputId": "2c1d5ba6-c868-41cc-a49c-3c705b2b7be8"
      },
      "execution_count": null,
      "outputs": [
        {
          "output_type": "execute_result",
          "data": {
            "text/plain": [
              "(60000, 28, 28, 1)"
            ]
          },
          "metadata": {},
          "execution_count": 10
        }
      ]
    },
    {
      "cell_type": "code",
      "source": [
        "Xtrain.dtype"
      ],
      "metadata": {
        "colab": {
          "base_uri": "https://localhost:8080/"
        },
        "id": "IMPc9dG7RuVj",
        "outputId": "31e97557-87c7-44a0-e68b-a2cef28521ed"
      },
      "execution_count": null,
      "outputs": [
        {
          "output_type": "execute_result",
          "data": {
            "text/plain": [
              "dtype('uint8')"
            ]
          },
          "metadata": {},
          "execution_count": 11
        }
      ]
    },
    {
      "cell_type": "code",
      "source": [
        "Xtrain=Xtrain.astype('float32')\n",
        "Xtest=Xtest.astype('float32')"
      ],
      "metadata": {
        "id": "bMMHM0N1R3P0"
      },
      "execution_count": null,
      "outputs": []
    },
    {
      "cell_type": "code",
      "source": [
        "Xtrain/=255\n",
        "Xtest/=255"
      ],
      "metadata": {
        "id": "K6Gk0zjOR967"
      },
      "execution_count": null,
      "outputs": []
    },
    {
      "cell_type": "code",
      "source": [
        "Ytrain=np_utils.to_categorical(Ytrain,10)"
      ],
      "metadata": {
        "id": "ejHqdsnJSAbL"
      },
      "execution_count": null,
      "outputs": []
    },
    {
      "cell_type": "code",
      "source": [
        "Ytest=np_utils.to_categorical(Ytest,10)"
      ],
      "metadata": {
        "id": "ExXi-A0ySDjT"
      },
      "execution_count": null,
      "outputs": []
    },
    {
      "cell_type": "code",
      "source": [
        "print(Ytrain[8])"
      ],
      "metadata": {
        "colab": {
          "base_uri": "https://localhost:8080/"
        },
        "id": "0AjU9qKvSGiz",
        "outputId": "3f209c0c-36b8-41bb-b171-defa8fc6b3cc"
      },
      "execution_count": null,
      "outputs": [
        {
          "output_type": "stream",
          "name": "stdout",
          "text": [
            "[0. 0. 0. 0. 0. 1. 0. 0. 0. 0.]\n"
          ]
        }
      ]
    },
    {
      "cell_type": "code",
      "source": [
        "from keras.layers.serialization import convolutional\n",
        "model=Sequential()\n",
        "model.add(Convolution2D(32,(3,3),activation='relu',input_shape=(28,28,1)))\n",
        "model.add(MaxPooling2D(pool_size=(2,2)))\n",
        "model.add(Convolution2D(32,(3,3),activation='relu'))\n",
        "model.add(MaxPooling2D(pool_size=(2,2)))\n",
        "model.add(Flatten())\n",
        "model.add(Dense(64,activation='relu'))\n",
        "model.add(Dense(10,activation='softmax'))"
      ],
      "metadata": {
        "id": "2tzN-emISLPr"
      },
      "execution_count": null,
      "outputs": []
    },
    {
      "cell_type": "code",
      "source": [
        "model.summary()"
      ],
      "metadata": {
        "colab": {
          "base_uri": "https://localhost:8080/"
        },
        "id": "9Bq1pVkBSP0r",
        "outputId": "6232db15-1137-41c7-f27a-87c2a57cff32"
      },
      "execution_count": null,
      "outputs": [
        {
          "output_type": "stream",
          "name": "stdout",
          "text": [
            "Model: \"sequential\"\n",
            "_________________________________________________________________\n",
            " Layer (type)                Output Shape              Param #   \n",
            "=================================================================\n",
            " conv2d (Conv2D)             (None, 26, 26, 32)        320       \n",
            "                                                                 \n",
            " max_pooling2d (MaxPooling2D  (None, 13, 13, 32)       0         \n",
            " )                                                               \n",
            "                                                                 \n",
            " conv2d_1 (Conv2D)           (None, 11, 11, 32)        9248      \n",
            "                                                                 \n",
            " max_pooling2d_1 (MaxPooling  (None, 5, 5, 32)         0         \n",
            " 2D)                                                             \n",
            "                                                                 \n",
            " flatten (Flatten)           (None, 800)               0         \n",
            "                                                                 \n",
            " dense (Dense)               (None, 64)                51264     \n",
            "                                                                 \n",
            " dense_1 (Dense)             (None, 10)                650       \n",
            "                                                                 \n",
            "=================================================================\n",
            "Total params: 61,482\n",
            "Trainable params: 61,482\n",
            "Non-trainable params: 0\n",
            "_________________________________________________________________\n"
          ]
        }
      ]
    },
    {
      "cell_type": "code",
      "source": [
        "model.compile(loss=\"categorical_crossentropy\",optimizer=\"adam\",metrics=[\"accuracy\"])"
      ],
      "metadata": {
        "id": "Dzez7c5lSSMj"
      },
      "execution_count": null,
      "outputs": []
    },
    {
      "cell_type": "code",
      "source": [
        "ann_viz(model,view=True,filename='CNN',title=\"CNN-FASHION-MNIST\")"
      ],
      "metadata": {
        "id": "Q6tbNRGGSXTT"
      },
      "execution_count": null,
      "outputs": []
    },
    {
      "cell_type": "code",
      "source": [
        "visualkeras.layered_view(model,legend=True)"
      ],
      "metadata": {
        "colab": {
          "base_uri": "https://localhost:8080/",
          "height": 218
        },
        "id": "4R857JqfSbGT",
        "outputId": "23ce280b-cbc3-48d5-acc5-2c1d09d69011"
      },
      "execution_count": null,
      "outputs": [
        {
          "output_type": "execute_result",
          "data": {
            "text/plain": [
              "<PIL.Image.Image image mode=RGBA size=301x201 at 0x7F0EEAA28550>"
            ],
            "image/png": "[encoded data removed]"
          },
          "metadata": {},
          "execution_count": 21
        }
      ]
    },
    {
      "cell_type": "code",
      "source": [
        "from keras.utils.vis_utils import plot_model\n",
        "plot_model(model,show_shapes=True,show_dtype=False,to_file='CNN-FASHION-MNIST.png',show_layer_names=True,expand_nested=True,dpi=96,layer_range=None,show_layer_activations=True)"
      ],
      "metadata": {
        "colab": {
          "base_uri": "https://localhost:8080/",
          "height": 865
        },
        "id": "yE7eVoUqSqGj",
        "outputId": "85780d0a-45f8-4e15-97c7-b53639146eee"
      },
      "execution_count": null,
      "outputs": [
        {
          "output_type": "execute_result",
          "data": {
            "image/png": "[encoded data removed]",
            "text/plain": [
              "<IPython.core.display.Image object>"
            ]
          },
          "metadata": {},
          "execution_count": 22
        }
      ]
    },
    {
      "cell_type": "code",
      "source": [
        "model.fit(Xtrain,Ytrain,epochs=50,batch_size=48)"
      ],
      "metadata": {
        "colab": {
          "base_uri": "https://localhost:8080/"
        },
        "id": "BlaSTZY-SzQb",
        "outputId": "a5dafb31-da0e-4d81-a650-f4aa770c3170"
      },
      "execution_count": null,
      "outputs": [
        {
          "output_type": "stream",
          "name": "stdout",
          "text": [
            "Epoch 1/50\n",
            "1250/1250 [==============================] - 26s 6ms/step - loss: 0.5271 - accuracy: 0.8073\n",
            "Epoch 2/50\n",
            "1250/1250 [==============================] - 4s 3ms/step - loss: 0.3518 - accuracy: 0.8730\n",
            "Epoch 3/50\n",
            "1250/1250 [==============================] - 5s 4ms/step - loss: 0.3073 - accuracy: 0.8890\n",
            "Epoch 4/50\n",
            "1250/1250 [==============================] - 5s 4ms/step - loss: 0.2749 - accuracy: 0.9000\n",
            "Epoch 5/50\n",
            "1250/1250 [==============================] - 4s 4ms/step - loss: 0.2525 - accuracy: 0.9069\n",
            "Epoch 6/50\n",
            "1250/1250 [==============================] - 5s 4ms/step - loss: 0.2346 - accuracy: 0.9129\n",
            "Epoch 7/50\n",
            "1250/1250 [==============================] - 4s 4ms/step - loss: 0.2184 - accuracy: 0.9199\n",
            "Epoch 8/50\n",
            "1250/1250 [==============================] - 5s 4ms/step - loss: 0.2053 - accuracy: 0.9238\n",
            "Epoch 9/50\n",
            "1250/1250 [==============================] - 5s 4ms/step - loss: 0.1938 - accuracy: 0.9281\n",
            "Epoch 10/50\n",
            "1250/1250 [==============================] - 4s 3ms/step - loss: 0.1821 - accuracy: 0.9328\n",
            "Epoch 11/50\n",
            "1250/1250 [==============================] - 5s 4ms/step - loss: 0.1740 - accuracy: 0.9347\n",
            "Epoch 12/50\n",
            "1250/1250 [==============================] - 4s 4ms/step - loss: 0.1637 - accuracy: 0.9388\n",
            "Epoch 13/50\n",
            "1250/1250 [==============================] - 4s 4ms/step - loss: 0.1557 - accuracy: 0.9408\n",
            "Epoch 14/50\n",
            "1250/1250 [==============================] - 6s 5ms/step - loss: 0.1477 - accuracy: 0.9447\n",
            "Epoch 15/50\n",
            "1250/1250 [==============================] - 4s 4ms/step - loss: 0.1405 - accuracy: 0.9473\n",
            "Epoch 16/50\n",
            "1250/1250 [==============================] - 5s 4ms/step - loss: 0.1338 - accuracy: 0.9489\n",
            "Epoch 17/50\n",
            "1250/1250 [==============================] - 5s 4ms/step - loss: 0.1263 - accuracy: 0.9528\n",
            "Epoch 18/50\n",
            "1250/1250 [==============================] - 4s 3ms/step - loss: 0.1198 - accuracy: 0.9554\n",
            "Epoch 19/50\n",
            "1250/1250 [==============================] - 5s 4ms/step - loss: 0.1149 - accuracy: 0.9567\n",
            "Epoch 20/50\n",
            "1250/1250 [==============================] - 4s 3ms/step - loss: 0.1093 - accuracy: 0.9590\n",
            "Epoch 21/50\n",
            "1250/1250 [==============================] - 5s 4ms/step - loss: 0.1045 - accuracy: 0.9607\n",
            "Epoch 22/50\n",
            "1250/1250 [==============================] - 5s 4ms/step - loss: 0.0994 - accuracy: 0.9620\n",
            "Epoch 23/50\n",
            "1250/1250 [==============================] - 4s 4ms/step - loss: 0.0929 - accuracy: 0.9648\n",
            "Epoch 24/50\n",
            "1250/1250 [==============================] - 5s 4ms/step - loss: 0.0899 - accuracy: 0.9664\n",
            "Epoch 25/50\n",
            "1250/1250 [==============================] - 5s 4ms/step - loss: 0.0840 - accuracy: 0.9690\n",
            "Epoch 26/50\n",
            "1250/1250 [==============================] - 5s 4ms/step - loss: 0.0805 - accuracy: 0.9697\n",
            "Epoch 27/50\n",
            "1250/1250 [==============================] - 5s 4ms/step - loss: 0.0781 - accuracy: 0.9706\n",
            "Epoch 28/50\n",
            "1250/1250 [==============================] - 4s 4ms/step - loss: 0.0743 - accuracy: 0.9722\n",
            "Epoch 29/50\n",
            "1250/1250 [==============================] - 5s 4ms/step - loss: 0.0686 - accuracy: 0.9748\n",
            "Epoch 30/50\n",
            "1250/1250 [==============================] - 4s 4ms/step - loss: 0.0693 - accuracy: 0.9739\n",
            "Epoch 31/50\n",
            "1250/1250 [==============================] - 4s 4ms/step - loss: 0.0651 - accuracy: 0.9752\n",
            "Epoch 32/50\n",
            "1250/1250 [==============================] - 5s 4ms/step - loss: 0.0628 - accuracy: 0.9763\n",
            "Epoch 33/50\n",
            "1250/1250 [==============================] - 4s 4ms/step - loss: 0.0590 - accuracy: 0.9776\n",
            "Epoch 34/50\n",
            "1250/1250 [==============================] - 6s 5ms/step - loss: 0.0563 - accuracy: 0.9790\n",
            "Epoch 35/50\n",
            "1250/1250 [==============================] - 8s 7ms/step - loss: 0.0567 - accuracy: 0.9789\n",
            "Epoch 36/50\n",
            "1250/1250 [==============================] - 8s 6ms/step - loss: 0.0519 - accuracy: 0.9805\n",
            "Epoch 37/50\n",
            "1250/1250 [==============================] - 5s 4ms/step - loss: 0.0487 - accuracy: 0.9822\n",
            "Epoch 38/50\n",
            "1250/1250 [==============================] - 6s 5ms/step - loss: 0.0482 - accuracy: 0.9819\n",
            "Epoch 39/50\n",
            "1250/1250 [==============================] - 4s 3ms/step - loss: 0.0460 - accuracy: 0.9830\n",
            "Epoch 40/50\n",
            "1250/1250 [==============================] - 4s 4ms/step - loss: 0.0441 - accuracy: 0.9836\n",
            "Epoch 41/50\n",
            "1250/1250 [==============================] - 5s 4ms/step - loss: 0.0403 - accuracy: 0.9851\n",
            "Epoch 42/50\n",
            "1250/1250 [==============================] - 4s 4ms/step - loss: 0.0430 - accuracy: 0.9836\n",
            "Epoch 43/50\n",
            "1250/1250 [==============================] - 5s 4ms/step - loss: 0.0413 - accuracy: 0.9849\n",
            "Epoch 44/50\n",
            "1250/1250 [==============================] - 4s 3ms/step - loss: 0.0392 - accuracy: 0.9855\n",
            "Epoch 45/50\n",
            "1250/1250 [==============================] - 4s 3ms/step - loss: 0.0391 - accuracy: 0.9853\n",
            "Epoch 46/50\n",
            "1250/1250 [==============================] - 5s 4ms/step - loss: 0.0349 - accuracy: 0.9875\n",
            "Epoch 47/50\n",
            "1250/1250 [==============================] - 4s 4ms/step - loss: 0.0361 - accuracy: 0.9865\n",
            "Epoch 48/50\n",
            "1250/1250 [==============================] - 5s 4ms/step - loss: 0.0355 - accuracy: 0.9871\n",
            "Epoch 49/50\n",
            "1250/1250 [==============================] - 5s 4ms/step - loss: 0.0354 - accuracy: 0.9868\n",
            "Epoch 50/50\n",
            "1250/1250 [==============================] - 4s 3ms/step - loss: 0.0307 - accuracy: 0.9889\n"
          ]
        },
        {
          "output_type": "execute_result",
          "data": {
            "text/plain": [
              "<keras.callbacks.History at 0x7f0eea962050>"
            ]
          },
          "metadata": {},
          "execution_count": 23
        }
      ]
    },
    {
      "cell_type": "code",
      "source": [
        "pred=model.predict(Xtest[np.newaxis,1])"
      ],
      "metadata": {
        "colab": {
          "base_uri": "https://localhost:8080/"
        },
        "id": "VM9YKGRxS9LD",
        "outputId": "bf2e217f-e4ab-4c7f-b0e1-556feb06fbb8"
      },
      "execution_count": null,
      "outputs": [
        {
          "output_type": "stream",
          "name": "stdout",
          "text": [
            "1/1 [==============================] - 0s 141ms/step\n"
          ]
        }
      ]
    },
    {
      "cell_type": "code",
      "source": [
        "prediction=pred.argmax(axis=1)"
      ],
      "metadata": {
        "id": "_RRpa42WUnDc"
      },
      "execution_count": null,
      "outputs": []
    },
    {
      "cell_type": "code",
      "source": [
        "pred"
      ],
      "metadata": {
        "colab": {
          "base_uri": "https://localhost:8080/"
        },
        "id": "27VPItWJUlJT",
        "outputId": "11365d00-8e5b-43ef-9109-0a462c4e0187"
      },
      "execution_count": null,
      "outputs": [
        {
          "output_type": "execute_result",
          "data": {
            "text/plain": [
              "array([[1.0000000e+00, 1.0644339e-22, 3.1307103e-08, 1.9550176e-14,\n",
              "        7.7658825e-22, 2.9308200e-24, 9.1183400e-10, 1.8566667e-21,\n",
              "        6.6722225e-15, 6.3038693e-30]], dtype=float32)"
            ]
          },
          "metadata": {},
          "execution_count": 34
        }
      ]
    },
    {
      "cell_type": "code",
      "source": [
        "prediction"
      ],
      "metadata": {
        "colab": {
          "base_uri": "https://localhost:8080/"
        },
        "id": "2o760_mYUqbj",
        "outputId": "5635ae15-da6c-4dcb-8bf0-4449f4f7f292"
      },
      "execution_count": null,
      "outputs": [
        {
          "output_type": "execute_result",
          "data": {
            "text/plain": [
              "array([0])"
            ]
          },
          "metadata": {},
          "execution_count": 40
        }
      ]
    },
    {
      "cell_type": "code",
      "source": [
        "print(labels[prediction[0]])"
      ],
      "metadata": {
        "colab": {
          "base_uri": "https://localhost:8080/"
        },
        "id": "9bfvVUiBUtJb",
        "outputId": "2e988883-f0c3-40be-9618-252479dc18e0"
      },
      "execution_count": null,
      "outputs": [
        {
          "output_type": "stream",
          "name": "stdout",
          "text": [
            "t-shirt/top\n"
          ]
        }
      ]
    },
    {
      "cell_type": "code",
      "source": [
        "img=(Xtest[1]*255).reshape((28,28)).astype('uint8')"
      ],
      "metadata": {
        "id": "pXO5VCAkU1qj"
      },
      "execution_count": null,
      "outputs": []
    },
    {
      "cell_type": "code",
      "source": [
        "plt.imshow(img)\n",
        "plt.show()"
      ],
      "metadata": {
        "colab": {
          "base_uri": "https://localhost:8080/",
          "height": 430
        },
        "id": "Q6OzfJkyU4hb",
        "outputId": "34bb31ed-fcaf-4236-9125-732dd573cca1"
      },
      "execution_count": null,
      "outputs": [
        {
          "output_type": "display_data",
          "data": {
            "text/plain": [
              "<Figure size 640x480 with 1 Axes>"
            ],
            "image/png": "[encoded data removed]"
          },
          "metadata": {}
        }
      ]
    },
    {
      "cell_type": "code",
      "source": [
        "labels=['t-shirt/top','trouser','pullover','dress','coat','sandal','sneaker','bag','ankle boot']"
      ],
      "metadata": {
        "id": "9Z7yCZfiX-fC"
      },
      "execution_count": null,
      "outputs": []
    },
    {
      "cell_type": "code",
      "source": [
        "for i in np.random.choice(np.arange(0,len(Ytest)),size=(4,)):\n",
        "  pred=model.predict(Xtest[np.newaxis,i])\n",
        "  prediction=pred.argmax(axis=1)\n",
        "  img=(Xtest[i]*255).reshape((28,28)).astype('uint8')\n",
        "  print('Product is:',labels[prediction[0]])\n",
        "  plt.imshow(img)\n",
        "  plt.show()"
      ],
      "metadata": {
        "colab": {
          "base_uri": "https://localhost:8080/",
          "height": 1000
        },
        "id": "-8BVuCWaU6tT",
        "outputId": "f3c97fd9-3139-43ab-e778-77ccbd83b5e4"
      },
      "execution_count": null,
      "outputs": [
        {
          "output_type": "stream",
          "name": "stdout",
          "text": [
            "1/1 [==============================] - 0s 114ms/step\n",
            "Product is: dress\n"
          ]
        },
        {
          "output_type": "display_data",
          "data": {
            "text/plain": [
              "<Figure size 640x480 with 1 Axes>"
            ],
            "image/png": "[encoded data removed]"
          },
          "metadata": {}
        },
        {
          "output_type": "stream",
          "name": "stdout",
          "text": [
            "1/1 [==============================] - 0s 28ms/step\n",
            "Product is: dress\n"
          ]
        },
        {
          "output_type": "display_data",
          "data": {
            "text/plain": [
              "<Figure size 640x480 with 1 Axes>"
            ],
            "image/png": "[encoded data removed]"
          },
          "metadata": {}
        },
        {
          "output_type": "stream",
          "name": "stdout",
          "text": [
            "1/1 [==============================] - 0s 26ms/step\n",
            "Product is: t-shirt/top\n"
          ]
        },
        {
          "output_type": "display_data",
          "data": {
            "text/plain": [
              "<Figure size 640x480 with 1 Axes>"
            ],
            "image/png": "[encoded data removed]"
          },
          "metadata": {}
        },
        {
          "output_type": "stream",
          "name": "stdout",
          "text": [
            "1/1 [==============================] - 0s 28ms/step\n",
            "Product is: bag\n"
          ]
        },
        {
          "output_type": "display_data",
          "data": {
            "text/plain": [
              "<Figure size 640x480 with 1 Axes>"
            ],
            "image/png": "[encoded data removed]"
          },
          "metadata": {}
        }
      ]
    },
    {
      "cell_type": "code",
      "source": [],
      "metadata": {
        "id": "8YcBDoLkc3-Z"
      },
      "execution_count": null,
      "outputs": []
    }
  ]
}